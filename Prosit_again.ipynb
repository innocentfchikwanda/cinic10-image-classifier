{
 "cells": [
  {
   "cell_type": "code",
   "execution_count": 15,
   "id": "970d7bc0-78cf-4b83-a5f1-2c8001592323",
   "metadata": {},
   "outputs": [],
   "source": [
    "import os, json\n",
    "from datetime import datetime\n",
    "\n",
    "import torch\n",
    "import torch.nn as nn\n",
    "import torch.optim as optim\n",
    "from torch.utils.tensorboard import SummaryWriter\n",
    "from torchvision import datasets, transforms\n",
    "from sklearn.metrics import confusion_matrix\n",
    "\n",
    "import wandb"
   ]
  },
  {
   "cell_type": "code",
   "execution_count": 16,
   "id": "e7df25cf-07db-4800-891d-005cd840e9bf",
   "metadata": {},
   "outputs": [],
   "source": [
    "# -------------------------\n",
    "# 0) Setup\n",
    "# -------------------------\n",
    "device = torch.device(\"cuda\" if torch.cuda.is_available() else \"cpu\")\n",
    "OUT_DIR = \"./outputs\"\n",
    "os.makedirs(OUT_DIR, exist_ok=True)\n",
    "\n",
    "wandb_project = \"cinic10-final-run\"\n",
    "\n",
    "CLASS_NAMES = [\n",
    "    \"airplane\",\"automobile\",\"bird\",\"cat\",\"deer\",\n",
    "    \"dog\",\"frog\",\"horse\",\"ship\",\"truck\"\n",
    "]"
   ]
  },
  {
   "cell_type": "code",
   "execution_count": 17,
   "id": "2318e8fd-ac0f-48f3-8cbf-49eea440463c",
   "metadata": {},
   "outputs": [],
   "source": [
    "# -------------------------\n",
    "# 1) Data transforms\n",
    "# -------------------------\n",
    "train_transform = transforms.Compose([\n",
    "    transforms.RandomHorizontalFlip(),\n",
    "    transforms.RandomCrop(32, padding=4),\n",
    "    transforms.ToTensor(),\n",
    "    transforms.Normalize((0.5,0.5,0.5), (0.5,0.5,0.5))\n",
    "])\n",
    "\n",
    "test_transform = transforms.Compose([\n",
    "    transforms.ToTensor(),\n",
    "    transforms.Normalize((0.5,0.5,0.5), (0.5,0.5,0.5))\n",
    "])"
   ]
  },
  {
   "cell_type": "code",
   "execution_count": 18,
   "id": "31ea9466-5d63-4d49-a8c5-6423ecc6c785",
   "metadata": {},
   "outputs": [],
   "source": [
    "# -------------------------\n",
    "# 2) Load datasets\n",
    "# -------------------------\n",
    "DATA_DIR = \"./data\"   # <-- adjust path\n",
    "\n",
    "train_dataset = datasets.ImageFolder(os.path.join(DATA_DIR, \"train\"), transform=train_transform)\n",
    "val_dataset   = datasets.ImageFolder(os.path.join(DATA_DIR, \"valid\"), transform=test_transform)\n",
    "test_dataset  = datasets.ImageFolder(os.path.join(DATA_DIR, \"test\"),  transform=test_transform)\n",
    "\n",
    "train_loader = torch.utils.data.DataLoader(train_dataset, batch_size=128, shuffle=True, num_workers=4)\n",
    "val_loader   = torch.utils.data.DataLoader(val_dataset,   batch_size=128, shuffle=False, num_workers=4)\n",
    "test_loader  = torch.utils.data.DataLoader(test_dataset,  batch_size=128, shuffle=False, num_workers=4)\n"
   ]
  },
  {
   "cell_type": "code",
   "execution_count": 19,
   "id": "d2560cdd-2802-4f8a-be45-59e4759cb58a",
   "metadata": {},
   "outputs": [],
   "source": [
    "# -------------------------\n",
    "# 3) Model definition\n",
    "# -------------------------\n",
    "class FeedForwardMLP(nn.Module):\n",
    "    def __init__(self, hidden_sizes=[2048,1024,512,256], dropout=0.5, num_classes=10):\n",
    "        super().__init__()\n",
    "        layers, in_dim = [], 3*32*32\n",
    "        for h in hidden_sizes:\n",
    "            layers.append(nn.Linear(in_dim, h))\n",
    "            layers.append(nn.ReLU())\n",
    "            layers.append(nn.Dropout(dropout))\n",
    "            in_dim = h\n",
    "        layers.append(nn.Linear(in_dim, num_classes))\n",
    "        self.net = nn.Sequential(*layers)\n",
    "\n",
    "    def forward(self, x):\n",
    "        x = x.view(x.size(0), -1)\n",
    "        return self.net(x)"
   ]
  },
  {
   "cell_type": "code",
   "execution_count": 20,
   "id": "05844e73-71e7-4abd-a67b-0e9be7548419",
   "metadata": {},
   "outputs": [],
   "source": [
    "\n",
    "# -------------------------\n",
    "# 4) Training function\n",
    "# -------------------------\n",
    "def l1_penalty(model):\n",
    "    return sum(p.abs().sum() for p in model.parameters())\n",
    "\n",
    "def run_training(model, train_loader, val_loader, cfg, writer=None):\n",
    "    model = model.to(device)\n",
    "    criterion = nn.CrossEntropyLoss()\n",
    "\n",
    "    if cfg.get(\"optimizer\", \"SGD\") == \"AdamW\":\n",
    "        optimizer = optim.AdamW(model.parameters(), lr=cfg[\"lr\"], weight_decay=cfg[\"weight_decay\"])\n",
    "    else:\n",
    "        optimizer = optim.SGD(model.parameters(), lr=cfg[\"lr\"], momentum=cfg[\"momentum\"], weight_decay=cfg[\"weight_decay\"])\n",
    "\n",
    "    scheduler = optim.lr_scheduler.StepLR(optimizer, step_size=10, gamma=0.5)\n",
    "\n",
    "    history = {\"train_loss\": [], \"val_loss\": [], \"train_acc\": [], \"val_acc\": [], \"lr\": []}\n",
    "    best_val_loss, patience_counter = float(\"inf\"), 0\n",
    "\n",
    "    for epoch in range(cfg[\"epochs\"]):\n",
    "        # Train\n",
    "        model.train()\n",
    "        train_loss, correct, total = 0.0, 0, 0\n",
    "        for xb, yb in train_loader:\n",
    "            xb, yb = xb.to(device), yb.to(device)\n",
    "            optimizer.zero_grad()\n",
    "            preds = model(xb)\n",
    "            loss = criterion(preds, yb)\n",
    "            if cfg.get(\"l1_lambda\", 0.0) > 0.0:\n",
    "                loss += cfg[\"l1_lambda\"] * l1_penalty(model)\n",
    "            loss.backward()\n",
    "            optimizer.step()\n",
    "            train_loss += loss.item() * xb.size(0)\n",
    "            _, predicted = preds.max(1)\n",
    "            correct += predicted.eq(yb).sum().item()\n",
    "            total += yb.size(0)\n",
    "        train_loss /= total\n",
    "        train_acc = correct / total\n",
    "\n",
    "        # Validate\n",
    "        model.eval()\n",
    "        val_loss, correct, total = 0.0, 0, 0\n",
    "        with torch.no_grad():\n",
    "            for xb, yb in val_loader:\n",
    "                xb, yb = xb.to(device), yb.to(device)\n",
    "                preds = model(xb)\n",
    "                loss = criterion(preds, yb)\n",
    "                val_loss += loss.item() * xb.size(0)\n",
    "                _, predicted = preds.max(1)\n",
    "                correct += predicted.eq(yb).sum().item()\n",
    "                total += yb.size(0)\n",
    "        val_loss /= total\n",
    "        val_acc = correct / total\n",
    "\n",
    "        scheduler.step()\n",
    "        lr_curr = optimizer.param_groups[0][\"lr\"]\n",
    "\n",
    "        history[\"train_loss\"].append(train_loss)\n",
    "        history[\"val_loss\"].append(val_loss)\n",
    "        history[\"train_acc\"].append(train_acc)\n",
    "        history[\"val_acc\"].append(val_acc)\n",
    "        history[\"lr\"].append(lr_curr)\n",
    "\n",
    "        if writer:\n",
    "            writer.add_scalar(\"Loss/train\", train_loss, epoch)\n",
    "            writer.add_scalar(\"Loss/val\", val_loss, epoch)\n",
    "            writer.add_scalar(\"Accuracy/train\", train_acc, epoch)\n",
    "            writer.add_scalar(\"Accuracy/val\", val_acc, epoch)\n",
    "            writer.add_scalar(\"LR\", lr_curr, epoch)\n",
    "\n",
    "        wandb.log({\n",
    "            \"epoch\": epoch,\n",
    "            \"train_loss\": train_loss,\n",
    "            \"val_loss\": val_loss,\n",
    "            \"train_acc\": train_acc,\n",
    "            \"val_acc\": val_acc,\n",
    "            \"lr\": lr_curr,\n",
    "        })\n",
    "\n",
    "        print(f\"Epoch {epoch+1}/{cfg['epochs']} Train loss={train_loss:.4f}, acc={train_acc:.4f} Val loss={val_loss:.4f}, acc={val_acc:.4f} lr={lr_curr:.5f}\")\n",
    "\n",
    "        if val_loss < best_val_loss:\n",
    "            best_val_loss, patience_counter, best_model = val_loss, 0, model.state_dict()\n",
    "        else:\n",
    "            patience_counter += 1\n",
    "            if patience_counter >= cfg[\"patience\"]:\n",
    "                print(\"Early stopping triggered\")\n",
    "                break\n",
    "\n",
    "    model.load_state_dict(best_model)\n",
    "    return model, history"
   ]
  },
  {
   "cell_type": "code",
   "execution_count": 21,
   "id": "298917d8-5ea9-4c46-b52d-94d9f98dd28d",
   "metadata": {},
   "outputs": [
    {
     "name": "stdout",
     "output_type": "stream",
     "text": [
      "Final training on TRAIN (90,000 samples only, with augmentation). Validation and testing on held-out sets.\n"
     ]
    },
    {
     "name": "stderr",
     "output_type": "stream",
     "text": [
      "\u001b[34m\u001b[1mwandb\u001b[0m: Currently logged in as: \u001b[33minnocent-ics-2025\u001b[0m (\u001b[33mnimbus-neuron\u001b[0m) to \u001b[32mhttps://api.wandb.ai\u001b[0m. Use \u001b[1m`wandb login --relogin`\u001b[0m to force relogin\n"
     ]
    },
    {
     "data": {
      "text/html": [],
      "text/plain": [
       "<IPython.core.display.HTML object>"
      ]
     },
     "metadata": {},
     "output_type": "display_data"
    },
    {
     "data": {
      "text/html": [
       "Tracking run with wandb version 0.22.0"
      ],
      "text/plain": [
       "<IPython.core.display.HTML object>"
      ]
     },
     "metadata": {},
     "output_type": "display_data"
    },
    {
     "data": {
      "text/html": [
       "Run data is saved locally in <code>/Users/innocentchikwanda/Desktop/Grad School/Deep Learning/Prosit1/wandb/run-20250920_032055-g3gqd7cg</code>"
      ],
      "text/plain": [
       "<IPython.core.display.HTML object>"
      ]
     },
     "metadata": {},
     "output_type": "display_data"
    },
    {
     "data": {
      "text/html": [
       "Syncing run <strong><a href='https://wandb.ai/nimbus-neuron/cinic10-final-run/runs/g3gqd7cg' target=\"_blank\">final_train_20250920032054</a></strong> to <a href='https://wandb.ai/nimbus-neuron/cinic10-final-run' target=\"_blank\">Weights & Biases</a> (<a href='https://wandb.me/developer-guide' target=\"_blank\">docs</a>)<br>"
      ],
      "text/plain": [
       "<IPython.core.display.HTML object>"
      ]
     },
     "metadata": {},
     "output_type": "display_data"
    },
    {
     "data": {
      "text/html": [
       " View project at <a href='https://wandb.ai/nimbus-neuron/cinic10-final-run' target=\"_blank\">https://wandb.ai/nimbus-neuron/cinic10-final-run</a>"
      ],
      "text/plain": [
       "<IPython.core.display.HTML object>"
      ]
     },
     "metadata": {},
     "output_type": "display_data"
    },
    {
     "data": {
      "text/html": [
       " View run at <a href='https://wandb.ai/nimbus-neuron/cinic10-final-run/runs/g3gqd7cg' target=\"_blank\">https://wandb.ai/nimbus-neuron/cinic10-final-run/runs/g3gqd7cg</a>"
      ],
      "text/plain": [
       "<IPython.core.display.HTML object>"
      ]
     },
     "metadata": {},
     "output_type": "display_data"
    },
    {
     "data": {
      "text/html": [
       "<button onClick=\"this.nextSibling.style.display='block';this.style.display='none';\">Display W&B run</button><iframe src='https://wandb.ai/nimbus-neuron/cinic10-final-run/runs/g3gqd7cg?jupyter=true' style='border:none;width:100%;height:420px;display:none;'></iframe>"
      ],
      "text/plain": [
       "<wandb.sdk.wandb_run.Run at 0x30f1bddf0>"
      ]
     },
     "execution_count": 21,
     "metadata": {},
     "output_type": "execute_result"
    }
   ],
   "source": [
    "# -------------------------\n",
    "# 5) Final Training (train=90k, val=90k, test=90k)\n",
    "# -------------------------\n",
    "print(\"Final training on TRAIN (90,000 samples only, with augmentation). Validation and testing on held-out sets.\")\n",
    "\n",
    "final_cfg = {\n",
    "    \"lr\": 0.01,\n",
    "    \"weight_decay\": 5e-4,\n",
    "    \"momentum\": 0.9,\n",
    "    \"epochs\": 50,\n",
    "    \"l1_lambda\": 0.0,\n",
    "    \"patience\": 8\n",
    "}\n",
    "\n",
    "tb_name = f\"final_train_{datetime.now().strftime('%Y%m%d%H%M%S')}\"\n",
    "writer = SummaryWriter(log_dir=os.path.join(OUT_DIR, \"runs\", tb_name))\n",
    "\n",
    "wandb.init(\n",
    "    project=wandb_project,\n",
    "    name=tb_name,\n",
    "    config={**final_cfg, \"batch_size\": 64, \"model\": \"FeedForwardMLP\", \"hidden_sizes\": [2048,1024,512,256], \"dropout\": 0.5}\n",
    ")\n",
    "\n"
   ]
  },
  {
   "cell_type": "code",
   "execution_count": null,
   "id": "3cb9954d-9621-40d2-9dee-3d8a197e74e7",
   "metadata": {},
   "outputs": [
    {
     "name": "stdout",
     "output_type": "stream",
     "text": [
      "Epoch 1/50 Train loss=2.1285, acc=0.1960 Val loss=1.9423, acc=0.2799 lr=0.01000\n"
     ]
    }
   ],
   "source": [
    "final_model = FeedForwardMLP(hidden_sizes=[2048,1024,512,256], dropout=0.5)\n",
    "final_model, final_history = run_training(final_model, train_loader, val_loader, final_cfg, writer=writer)\n",
    "writer.close()"
   ]
  },
  {
   "cell_type": "code",
   "execution_count": 5,
   "id": "5d33ddc2-1377-4220-83df-72e472a01c37",
   "metadata": {},
   "outputs": [],
   "source": [
    "# -------------------------\n",
    "# 6) Evaluate on Test Set\n",
    "# -------------------------\n",
    "criterion = nn.CrossEntropyLoss()\n",
    "def evaluate(model, criterion, dataloader):\n",
    "    model.eval()\n",
    "    loss, correct, total = 0.0, 0, 0\n",
    "    with torch.no_grad():\n",
    "        for xb, yb in dataloader:\n",
    "            xb, yb = xb.to(device), yb.to(device)\n",
    "            preds = model(xb)\n",
    "            loss += criterion(preds, yb).item() * xb.size(0)\n",
    "            _, predicted = preds.max(1)\n",
    "            correct += predicted.eq(yb).sum().item()\n",
    "            total += yb.size(0)\n",
    "    return loss/total, correct/total\n",
    "\n",
    "test_loss, test_acc = evaluate(final_model, criterion, test_loader)\n",
    "print(f\"Held-out TEST set metrics -> loss:{test_loss:.4f} acc:{test_acc:.4f}\")\n",
    "\n",
    "torch.save(final_model.state_dict(), os.path.join(OUT_DIR, \"final_model_train_only.pth\"))"
   ]
  },
  {
   "cell_type": "code",
   "execution_count": 6,
   "id": "0e3e31ed-0532-4f2c-87ec-4cf85f5c944d",
   "metadata": {},
   "outputs": [],
   "source": []
  }
 ],
 "metadata": {
  "kernelspec": {
   "display_name": "Python 3 (ipykernel)",
   "language": "python",
   "name": "python3"
  },
  "language_info": {
   "codemirror_mode": {
    "name": "ipython",
    "version": 3
   },
   "file_extension": ".py",
   "mimetype": "text/x-python",
   "name": "python",
   "nbconvert_exporter": "python",
   "pygments_lexer": "ipython3",
   "version": "3.9.21"
  }
 },
 "nbformat": 4,
 "nbformat_minor": 5
}
